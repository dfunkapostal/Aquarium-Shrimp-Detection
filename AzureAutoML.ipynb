{
  "cells": [
    {
      "cell_type": "markdown",
      "source": [
        "Setup Workspace environment"
      ],
      "metadata": {
        "nteract": {
          "transient": {
            "deleting": false
          }
        }
      }
    },
    {
      "cell_type": "code",
      "source": [
        "import json\r\n",
        "import urllib.request\r\n",
        "from urllib.parse import quote\r\n",
        "from azureml.core import Workspace, Dataset\r\n",
        "from azure.ai.ml import MLClient, Input\r\n",
        "from azure.ai.ml.entities import Environment, BuildContext\r\n",
        "from azureml.core.conda_dependencies import CondaDependencies\r\n",
        "from azure.identity import DefaultAzureCredential\r\n",
        "from azureml.core import Environment, Workspace,  runconfig, Experiment\r\n",
        "\r\n",
        "\r\n",
        "# authenticate\r\n",
        "credential = DefaultAzureCredential()\r\n",
        "# # Get a handle to the workspace\r\n",
        "ml_client = None\r\n",
        "try:\r\n",
        "    ml_client = MLClient.from_config(credential)\r\n",
        "except Exception as ex:\r\n",
        "    print(ex)\r\n",
        "    # Enter details of your Azure Machine Learning workspace\r\n",
        "subscription_id=\"\"\r\n",
        "resource_group=\"\"\r\n",
        "workspace=\"\"\r\n",
        "ml_client = MLClient(credential, subscription_id, resource_group, workspace)"
      ],
      "outputs": [],
      "execution_count": null,
      "metadata": {}
    },
    {
      "cell_type": "markdown",
      "source": [
        "Datastore Download"
      ],
      "metadata": {
        "nteract": {
          "transient": {
            "deleting": false
          }
        }
      }
    },
    {
      "cell_type": "code",
      "source": [
        "# azureml-core of version 1.0.72 or higher is required\r\n",
        "from azureml.core import Workspace, Dataset\r\n",
        "\r\n",
        "subscription_id = ''\r\n",
        "resource_group = ''\r\n",
        "workspace_name = ''\r\n",
        "\r\n",
        "workspace = Workspace(subscription_id, resource_group, workspace_name)\r\n",
        "\r\n",
        "dataset = Dataset.get_by_name(workspace, name='ADS')\r\n",
        "#dataset.download(target_path='f', overwrite=False)"
      ],
      "outputs": [],
      "execution_count": null,
      "metadata": {
        "jupyter": {
          "source_hidden": false,
          "outputs_hidden": false
        },
        "nteract": {
          "transient": {
            "deleting": false
          }
        }
      }
    },
    {
      "cell_type": "markdown",
      "source": [
        "Convert COCO2JSONL"
      ],
      "metadata": {
        "nteract": {
          "transient": {
            "deleting": false
          }
        }
      }
    },
    {
      "cell_type": "code",
      "source": [
        "!python3 path/to/coco2jsonl.py --input_coco_file_path \"path/to/train/_annotations.coco.json\" \\\r\n",
        "--output_dir \"path/to/train/\" --output_file_name \"output_train.jsonl\" \\\r\n",
        "--task_type \"ObjectDetection\" \\\r\n",
        "--base_url \"path/to/..\"\r\n",
        "\r\n",
        "!python3 path/to/coco2jsonl.py --input_coco_file_path \"path/to/valid/_annotations.coco.json\" \\\r\n",
        "--output_dir \"path/to/valid/\" --output_file_name \"output_valid.jsonl\" \\\r\n",
        "--task_type \"ObjectDetection\" \\\r\n",
        "--base_url \"path/to/..\""
      ],
      "outputs": [],
      "execution_count": null,
      "metadata": {
        "jupyter": {
          "source_hidden": false,
          "outputs_hidden": false
        },
        "nteract": {
          "transient": {
            "deleting": false
          }
        }
      }
    },
    {
      "cell_type": "markdown",
      "source": [
        "MLTABLE Creation"
      ],
      "metadata": {
        "nteract": {
          "transient": {
            "deleting": false
          }
        }
      }
    },
    {
      "cell_type": "code",
      "source": [
        "from azure.ai.ml import automl\r\n",
        "from azure.ai.ml import MLClient, Input, Output\r\n",
        "from azure.ai.ml.constants import AssetTypes\r\n",
        "\r\n",
        "my_training_data_input = Input(type=AssetTypes.MLTABLE, path=\"path/to/train/output_train.jsonl\")\r\n",
        "\r\n",
        "\r\n",
        "my_validation_data_input = Input(type=AssetTypes.MLTABLE, path=\"path/to/valid/output_valid.jsonl\")\r\n"
      ],
      "outputs": [],
      "execution_count": null,
      "metadata": {
        "jupyter": {
          "source_hidden": false,
          "outputs_hidden": false
        },
        "nteract": {
          "transient": {
            "deleting": false
          }
        }
      }
    },
    {
      "cell_type": "markdown",
      "source": [
        "Training Definition"
      ],
      "metadata": {
        "nteract": {
          "transient": {
            "deleting": false
          }
        }
      }
    },
    {
      "cell_type": "code",
      "source": [
        "from azure.ai.ml import automl\r\n",
        "\r\n",
        "#compute_name = \"gpu-cluster\"\r\n",
        "image_object_detection_job = automl.image_object_detection(\r\n",
        "    training_data=my_training_data_input,\r\n",
        "    validation_data=my_validation_data_input,\r\n",
        "    target_column_name=\"label\"\r\n",
        "    #compute=compute_name,\r\n",
        "    # currently need to specify outputs \"mlflow_model\" explictly to reference it in following nodes \r\n",
        "    #outputs={\"best_model\": Output(type=\"mlflow_model\")}\r\n",
        ")"
      ],
      "outputs": [],
      "execution_count": null,
      "metadata": {
        "jupyter": {
          "source_hidden": false,
          "outputs_hidden": false
        },
        "nteract": {
          "transient": {
            "deleting": false
          }
        }
      }
    },
    {
      "cell_type": "markdown",
      "source": [
        "Auto Hyperparameter sweep"
      ],
      "metadata": {
        "nteract": {
          "transient": {
            "deleting": false
          }
        }
      }
    },
    {
      "cell_type": "code",
      "source": [
        "image_object_detection_job.set_limits(max_trials=10, max_concurrent_trials=1)\r\n",
        "#image_object_detection_job.set_training_parameters(model_name=\"yolov5\")"
      ],
      "outputs": [],
      "execution_count": null,
      "metadata": {
        "jupyter": {
          "source_hidden": false,
          "outputs_hidden": false
        },
        "nteract": {
          "transient": {
            "deleting": false
          }
        }
      }
    },
    {
      "cell_type": "markdown",
      "source": [
        "Submit Job"
      ],
      "metadata": {
        "nteract": {
          "transient": {
            "deleting": false
          }
        }
      }
    },
    {
      "cell_type": "code",
      "source": [
        "# Submit the AutoML job\r\n",
        "returned_job = ml_client.jobs.create_or_update(\r\n",
        "    image_object_detection_job\r\n",
        ")  # submit the job to the backend\r\n",
        "\r\n",
        "print(f\"Created job: {returned_job}\")"
      ],
      "outputs": [],
      "execution_count": null,
      "metadata": {
        "jupyter": {
          "source_hidden": false,
          "outputs_hidden": false
        },
        "nteract": {
          "transient": {
            "deleting": false
          }
        }
      }
    }
  ],
  "metadata": {
    "kernelspec": {
      "display_name": "Python 3.10 - SDK v2",
      "language": "python",
      "name": "python310-sdkv2"
    },
    "language_info": {
      "name": "python",
      "version": "3.10.10",
      "mimetype": "text/x-python",
      "codemirror_mode": {
        "name": "ipython",
        "version": 3
      },
      "pygments_lexer": "ipython3",
      "nbconvert_exporter": "python",
      "file_extension": ".py"
    },
    "microsoft": {
      "ms_spell_check": {
        "ms_spell_check_language": "en"
      }
    },
    "nteract": {
      "version": "nteract-front-end@1.0.0"
    }
  },
  "nbformat": 4,
  "nbformat_minor": 2
}